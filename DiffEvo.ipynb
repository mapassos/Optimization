{
 "cells": [
  {
   "cell_type": "code",
   "execution_count": 1,
   "id": "dc2c677f-ad2c-4555-835d-6098c7a518e1",
   "metadata": {},
   "outputs": [],
   "source": [
    "import numpy as np\n",
    "from tqdm import tqdm\n",
    "from collections import namedtuple\n",
    "from typing import NamedTuple\n"
   ]
  },
  {
   "cell_type": "code",
   "execution_count": 2,
   "id": "4c64c8c6-6782-4116-bbd4-6b6b0bc2f7a3",
   "metadata": {},
   "outputs": [],
   "source": [
    "class DifferentialEvolution():\n",
    "    \n",
    "    def __init__(self, func, kmut, kcross, nparam, npop, niter, data, data_sizes, bounds = None, guess = None):\n",
    "        self.func = func\n",
    "        self.kmut = kmut\n",
    "        self.kcross = kcross\n",
    "        self.nparam = nparam\n",
    "        self.npop = npop\n",
    "        self.niter = niter\n",
    "        self.data = data\n",
    "        self.data_sizes = data_sizes\n",
    "        self.bounds = bounds\n",
    "        self.guess = guess\n",
    "        \n",
    "    def _population_generator(self):\n",
    "        '''\n",
    "        Generate a random population n parameter x m population (size) from the uniform distribution.\n",
    "        If there is a guess, it will be the first element of the population.\n",
    "        If there is bounds, then the population parameters will be bounded by the values specified.\n",
    "        Bounds should be a tuple comprised of a tuple where the first element is the lower bound and the second is the upper bound \n",
    "        '''\n",
    "        pop = np.random.rand(self.nparam, self.npop)\n",
    "        if self.bounds:\n",
    "            pop = np.array([self.bounds[ii][0] + pop[ii] * (self.bounds[ii][1] - self.bounds[ii][0]) for ii in range(len(pop))])\n",
    "        if self.guess:\n",
    "            pop[:, 0] = np.array(self.guess)\n",
    "        return pop.T\n",
    "\n",
    "    def _least_error_idx(self, pop):\n",
    "        '''\n",
    "        Identify the element from the population with the least error.\n",
    "        The parameter func should have the following parameters: array to compute the error, list of array of the data,\n",
    "        and list of sizes of each data. \n",
    "        Returns the index of the element with the least error and the least error\n",
    "        '''\n",
    "        error = np.zeros(self.npop)\n",
    "        for idx, row in enumerate(pop):\n",
    "            error[idx] = self.func(row, self.data, self.data_sizes)\n",
    "        lst_idx = np.argmin(error)\n",
    "        return lst_idx, error[lst_idx]\n",
    "\n",
    "    def _diff_evolution_solver(self):\n",
    "        '''\n",
    "        Computes the best fit via the differential evolution algorithm\n",
    "        '''\n",
    "        pop = self._population_generator()\n",
    "        idx_list = np.arange(self.npop)\n",
    "        lsterr_idx, lst_err = self._least_error_idx(pop)\n",
    "        bestfit = pop[lsterr_idx]\n",
    "        for iter in tqdm(range(self.niter)):  \n",
    "            for i, ind in enumerate(pop):\n",
    "                rng_idx = np.random.choice(idx_list, 2, replace = False)\n",
    "                trial = bestfit + kmut * (pop[rng_idx[0]] - pop[rng_idx[1]])\n",
    "                cross = np.concatenate((np.random.rand(3) <= self.kcross, np.array([True])))\n",
    "                trial = np.where(cross, trial, ind)\n",
    "                for j, param in enumerate(trial):\n",
    "                    if not (param >= bounds[j][0] and param <= bounds[j][1]):\n",
    "                         trial[j] = pop[:, j].min() + np.random.uniform() * (pop[:, j].max() - pop[:, j].min())\n",
    "                trial_err = self.func(trial, self.data, self.data_sizes)\n",
    "                if trial_err < self.func(ind, self.data, self.data_sizes):\n",
    "                    pop[i] = trial\n",
    "                    if trial_err < lst_err:\n",
    "                        bestfit = trial\n",
    "                        lst_err = trial_err\n",
    "                        yield bestfit, lst_err\n",
    "\n",
    "    @property\n",
    "    def result(self):\n",
    "        res, err  = zip(*tuple(self._diff_evolution_solver()))\n",
    "        return res[-1]\n",
    "        "
   ]
  },
  {
   "cell_type": "code",
   "execution_count": 3,
   "id": "68567e85-db66-4206-b7a9-f85cb143add9",
   "metadata": {},
   "outputs": [],
   "source": [
    "def func_obj(r, cor1, cor2, n, yraw, stdraw) -> float:\n",
    "    y = 1/ (r * ((3 - cor1) ** (-2) - (n - cor2) ** (-2))) \n",
    "    err = np.square(yraw - y) / np.square(stdraw) #chi-square goodness of fit ((MSWD))\n",
    "    return err\n",
    "\n",
    "def compute_error(ind: np.ndarray, data_collection: list[NamedTuple], sizes: tuple[int]) -> float:\n",
    "    '''\n",
    "    Computes the error function, which is the chi-square goodness of fit\n",
    "    This is the object function that we are trying to minimize.\n",
    "    '''\n",
    "    error = 0\n",
    "    for data in data_collection:\n",
    "        if data.name ==  'principal':\n",
    "            for record in range(sizes[0]):\n",
    "                error += func_obj(ind[0],\n",
    "                                  ind[1],\n",
    "                                  ind[2],\n",
    "                                  data.level[record],\n",
    "                                  data.wavelength[record],\n",
    "                                  data.uncertainty[record])\n",
    "        elif data.name ==  'sharp':\n",
    "            for record in range(sizes[1]):\n",
    "                error += func_obj(ind[0],\n",
    "                                  ind[2], \n",
    "                                  ind[1], \n",
    "                                  data.level[record], \n",
    "                                  data.wavelength[record], \n",
    "                                  data.uncertainty[record])\n",
    "        elif data.name ==  'diffuse':\n",
    "            for record in range(sizes[2]):\n",
    "                error += func_obj(ind[0], \n",
    "                                  ind[2], \n",
    "                                  ind[3], \n",
    "                                  data.level[record], \n",
    "                                  data.wavelength[record], \n",
    "                                  data.uncertainty[record])\n",
    "        elif data.name ==  'balmer':\n",
    "            for record in range(sizes[3]):\n",
    "                error += func_obj(ind[0],\n",
    "                                  1, \n",
    "                                  0, \n",
    "                                  data.level[record], \n",
    "                                  data.wavelength[record], \n",
    "                                  data.uncertainty[record])\n",
    "    return np.sqrt(error)"
   ]
  },
  {
   "cell_type": "code",
   "execution_count": 4,
   "id": "6e054436-646d-47ae-9da7-93c839895329",
   "metadata": {},
   "outputs": [],
   "source": [
    "R=1.0e7\n",
    "S=1.5\n",
    "P=0.5\n",
    "D=0.0\n",
    "\n",
    "boundR = (1e6, 1e8)\n",
    "boundS = (0.5, 2.0)\n",
    "boundP = (0.3, 1.5)\n",
    "boundD = (0.0, 0.1)\n",
    "\n",
    "bounds = (boundR, boundS, boundP, boundD)\n",
    "guess = (R, S, P, D)"
   ]
  },
  {
   "cell_type": "code",
   "execution_count": 5,
   "id": "d2fc84f6-4ace-4c48-9495-ecce5aa4b3a4",
   "metadata": {},
   "outputs": [],
   "source": [
    "principal = ((3, 5.86175E-7, 1e-8),\n",
    "             (4, 3.3003E-7, 1e-8))\n",
    "sharp = ((5, 6.1435E-7, 1e-8),\n",
    "         (5, 6.1381E-7, 1e-8),\n",
    "         (6, 5.1326E-7, 1e-8),   \n",
    "         (6, 5.1284E-7, 1e-8),   \n",
    "         (7, 4.7319E-7, 1e-8),   \n",
    "         (7, 4.7294E-7, 1e-8),   \n",
    "         (8, 4.5707E-7, 1e-8))\n",
    "diffuse = ((4, 5.6722E-7, 1e-8),\n",
    "          (4, 5.6661E-7, 1e-8),\n",
    "          (5, 4.9618E-7, 1e-8),\n",
    "          (5, 4.9576E-7, 1e-8),    \n",
    "          (6, 4.6486E-7, 1e-8),\n",
    "          (6, 4.6450E-7, 1e-8),\n",
    "          (7, 4.4856E-7, 1e-8))\n",
    "balmer = ((3, 6.5930E-7, 1e-9),\n",
    "          (4, 4.8580E-7, 1e-9),\n",
    "          (5, 4.3415e-7, 1e-9),\n",
    "          (6, 4.1056e-7, 1e-9),\n",
    "          (7, 3.9760e-7, 1e-9))"
   ]
  },
  {
   "cell_type": "code",
   "execution_count": 6,
   "id": "e298da2e-1cca-468d-acee-004c002db2fe",
   "metadata": {},
   "outputs": [],
   "source": [
    "principal = np.array(principal)\n",
    "sharp = np.array(sharp)\n",
    "diffuse = np.array(diffuse)\n",
    "balmer = np.array(balmer)"
   ]
  },
  {
   "cell_type": "code",
   "execution_count": 7,
   "id": "607cf9dd-3bfa-401a-aa8b-5ce134486530",
   "metadata": {},
   "outputs": [],
   "source": [
    "Np = len(principal)\n",
    "Ns = len(sharp) \n",
    "Nd = len(diffuse)\n",
    "Nb = len(balmer)"
   ]
  },
  {
   "cell_type": "code",
   "execution_count": 8,
   "id": "337621cd-44aa-43d1-81e5-c9d0cd581404",
   "metadata": {},
   "outputs": [],
   "source": [
    "series = namedtuple('series', ('name', \n",
    "                               'level', \n",
    "                               'wavelength', \n",
    "                               'uncertainty'))\n",
    "principal_data = series('principal', \n",
    "                       principal[:, 0], \n",
    "                       principal[:, 1], \n",
    "                       principal[:, 2])\n",
    "sharp_data = series('sharp', \n",
    "                   sharp[:, 0], \n",
    "                   sharp[:, 1], \n",
    "                   sharp[:, 2])\n",
    "diffuse_data = series('diffuse', \n",
    "                     diffuse[:, 0], \n",
    "                     diffuse[:, 1], \n",
    "                     diffuse[:, 2])\n",
    "balmer_data = series('balmer', \n",
    "                    balmer[:, 0], \n",
    "                    balmer[:, 1], \n",
    "                    balmer[:, 2])"
   ]
  },
  {
   "cell_type": "code",
   "execution_count": 9,
   "id": "46d77479-25ff-40fc-b810-9f9ff5375c1e",
   "metadata": {},
   "outputs": [],
   "source": [
    "data_collection = (principal_data, sharp_data, diffuse_data, balmer_data)\n",
    "sizes = (Np, Ns, Nd, Nb)"
   ]
  },
  {
   "cell_type": "code",
   "execution_count": 10,
   "id": "37046596-0327-4bab-b49a-452bc93e4f0e",
   "metadata": {},
   "outputs": [],
   "source": [
    "niter = 50000\n",
    "kmut = 0.2\n",
    "kcross = 0.6"
   ]
  },
  {
   "cell_type": "code",
   "execution_count": 11,
   "id": "32ba7a65-fcc6-422e-9cce-12388a572b83",
   "metadata": {},
   "outputs": [],
   "source": [
    "a = DifferentialEvolution(func = compute_error, \n",
    "                          kmut = kmut, \n",
    "                          kcross = kcross, \n",
    "                          nparam = 4, \n",
    "                          npop =10, \n",
    "                          niter = niter, \n",
    "                          data = data_collection, \n",
    "                          data_sizes = sizes, \n",
    "                          bounds = bounds, \n",
    "                          guess = guess)"
   ]
  },
  {
   "cell_type": "code",
   "execution_count": 12,
   "id": "39ec387f-3f18-4ac0-9c7b-e86a97dd5bb4",
   "metadata": {},
   "outputs": [
    {
     "name": "stderr",
     "output_type": "stream",
     "text": [
      "100%|███████████████████████████████████████████████████████████████████████████| 50000/50000 [01:52<00:00, 442.78it/s]\n"
     ]
    },
    {
     "data": {
      "text/plain": [
       "array([1.09469223e+07, 1.38166227e+00, 8.95839873e-01, 1.10846094e-02])"
      ]
     },
     "execution_count": 12,
     "metadata": {},
     "output_type": "execute_result"
    }
   ],
   "source": [
    "a.result"
   ]
  },
  {
   "cell_type": "code",
   "execution_count": null,
   "id": "b5da9a9c-c70a-4a1d-9111-c3de7bfede93",
   "metadata": {},
   "outputs": [],
   "source": []
  }
 ],
 "metadata": {
  "kernelspec": {
   "display_name": "Python 3 (ipykernel)",
   "language": "python",
   "name": "python3"
  },
  "language_info": {
   "codemirror_mode": {
    "name": "ipython",
    "version": 3
   },
   "file_extension": ".py",
   "mimetype": "text/x-python",
   "name": "python",
   "nbconvert_exporter": "python",
   "pygments_lexer": "ipython3",
   "version": "3.11.5"
  }
 },
 "nbformat": 4,
 "nbformat_minor": 5
}
